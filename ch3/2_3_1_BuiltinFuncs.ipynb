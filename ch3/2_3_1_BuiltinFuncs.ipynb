{
 "cells": [
  {
   "cell_type": "code",
   "execution_count": 2,
   "metadata": {},
   "outputs": [
    {
     "name": "stdout",
     "output_type": "stream",
     "text": [
      "Value Kohli at 0\n",
      "Value Sky at 1\n",
      "Value Siraj at 2\n"
     ]
    }
   ],
   "source": [
    "# enumerate sequence of idx,val 2-tuple\n",
    "players = [\"Kohli\", \"Sky\", \"Siraj\"]\n",
    "for i,val in enumerate(players):\n",
    "    print(\"Value {1} at {0}\".format(i,val))"
   ]
  },
  {
   "cell_type": "code",
   "execution_count": 3,
   "metadata": {},
   "outputs": [
    {
     "data": {
      "text/plain": [
       "{'Kohli': 0, 'Sky': 1, 'Siraj': 2}"
      ]
     },
     "execution_count": 3,
     "metadata": {},
     "output_type": "execute_result"
    }
   ],
   "source": [
    "# reverse mapping val to idx\n",
    "player_dict = {}\n",
    "for i,val in enumerate(players):\n",
    "    player_dict[val] = i\n",
    "player_dict"
   ]
  },
  {
   "cell_type": "code",
   "execution_count": 4,
   "metadata": {},
   "outputs": [
    {
     "data": {
      "text/plain": [
       "['Kohli', 'Siraj', 'Sky']"
      ]
     },
     "execution_count": 4,
     "metadata": {},
     "output_type": "execute_result"
    }
   ],
   "source": [
    "sorted(players) #new list"
   ]
  },
  {
   "cell_type": "code",
   "execution_count": 6,
   "metadata": {},
   "outputs": [
    {
     "name": "stdout",
     "output_type": "stream",
     "text": [
      "[('foo', 'one', 1), ('bar', 'do', 2)]\n"
     ]
    }
   ],
   "source": [
    "# zip : zips corresponding elements of lis/tuples/other seq to create list of tuples\n",
    "s1 = [\"foo\" , \"bar\", \"baz\"]\n",
    "s2 = [\"one\" , \"do\", \"teen\"]\n",
    "less = [1,2]\n",
    "print(list(zip(s1,s2,less))) #only 2 elements xd\n",
    "#  smallest no. "
   ]
  },
  {
   "cell_type": "code",
   "execution_count": 8,
   "metadata": {},
   "outputs": [
    {
     "name": "stdout",
     "output_type": "stream",
     "text": [
      "0\n",
      "foo one 1\n",
      "Value : [foo, one,1] at 0\n",
      "1\n",
      "bar do 2\n",
      "Value : [bar, do,2] at 1\n"
     ]
    }
   ],
   "source": [
    "# simultaneous loopping sequences\n",
    "for i, (a,b,c) in enumerate(zip(s1,s2,less)):\n",
    "    print(i)\n",
    "    print(a,b,c)\n",
    "    print(\"Value : [{}, {},{}] at {}\".format(a,b,c,i))\n",
    "\n"
   ]
  },
  {
   "cell_type": "code",
   "execution_count": 11,
   "metadata": {},
   "outputs": [
    {
     "name": "stdout",
     "output_type": "stream",
     "text": [
      "[9, 8, 7, 6, 5, 4, 3, 2, 1, 0]\n"
     ]
    }
   ],
   "source": [
    "# reversed : generator that iterates over seq in rev but has to be materialized\n",
    "print(list(reversed(range(10))))"
   ]
  }
 ],
 "metadata": {
  "kernelspec": {
   "display_name": "Python 3",
   "language": "python",
   "name": "python3"
  },
  "language_info": {
   "codemirror_mode": {
    "name": "ipython",
    "version": 3
   },
   "file_extension": ".py",
   "mimetype": "text/x-python",
   "name": "python",
   "nbconvert_exporter": "python",
   "pygments_lexer": "ipython3",
   "version": "3.11.3"
  }
 },
 "nbformat": 4,
 "nbformat_minor": 2
}
