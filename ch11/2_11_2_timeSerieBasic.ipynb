{
 "cells": [
  {
   "cell_type": "code",
   "execution_count": 2,
   "metadata": {},
   "outputs": [],
   "source": [
    "from datetime import datetime\n",
    "import pandas as pd\n",
    "import numpy as np"
   ]
  },
  {
   "cell_type": "code",
   "execution_count": 3,
   "metadata": {},
   "outputs": [
    {
     "data": {
      "text/plain": [
       "2011-01-02   -0.326558\n",
       "2011-01-05    0.641027\n",
       "2011-01-07    1.098709\n",
       "2011-01-08    0.809111\n",
       "2011-01-10    0.499802\n",
       "2011-01-12   -0.486002\n",
       "dtype: float64"
      ]
     },
     "execution_count": 3,
     "metadata": {},
     "output_type": "execute_result"
    }
   ],
   "source": [
    "#  time series object in pandas is a Series indexed by timestamps\n",
    "dates = [datetime(2011, 1, 2), datetime(2011, 1, 5),\n",
    "     datetime(2011, 1, 7), datetime(2011, 1, 8),\n",
    "     datetime(2011, 1, 10), datetime(2011, 1, 12)]\n",
    "ts = pd.Series(np.random.randn(6), index=dates)\n",
    "ts"
   ]
  },
  {
   "cell_type": "code",
   "execution_count": 4,
   "metadata": {},
   "outputs": [
    {
     "data": {
      "text/plain": [
       "DatetimeIndex(['2011-01-02', '2011-01-05', '2011-01-07', '2011-01-08',\n",
       "               '2011-01-10', '2011-01-12'],\n",
       "              dtype='datetime64[ns]', freq=None)"
      ]
     },
     "execution_count": 4,
     "metadata": {},
     "output_type": "execute_result"
    }
   ],
   "source": [
    "# datetime index\n",
    "ts.index"
   ]
  },
  {
   "cell_type": "code",
   "execution_count": 5,
   "metadata": {},
   "outputs": [
    {
     "data": {
      "text/plain": [
       "2011-01-02   -0.653117\n",
       "2011-01-05         NaN\n",
       "2011-01-07    2.197419\n",
       "2011-01-08         NaN\n",
       "2011-01-10    0.999604\n",
       "2011-01-12         NaN\n",
       "dtype: float64"
      ]
     },
     "execution_count": 5,
     "metadata": {},
     "output_type": "execute_result"
    }
   ],
   "source": [
    "# auto allign on index\n",
    "ts + ts[::2] # every 2nd elemetn"
   ]
  },
  {
   "cell_type": "code",
   "execution_count": 6,
   "metadata": {},
   "outputs": [
    {
     "data": {
      "text/plain": [
       "dtype('<M8[ns]')"
      ]
     },
     "execution_count": 6,
     "metadata": {},
     "output_type": "execute_result"
    }
   ],
   "source": [
    "ts.index.dtype"
   ]
  },
  {
   "cell_type": "code",
   "execution_count": 7,
   "metadata": {},
   "outputs": [
    {
     "data": {
      "text/plain": [
       "Timestamp('2011-01-02 00:00:00')"
      ]
     },
     "execution_count": 7,
     "metadata": {},
     "output_type": "execute_result"
    }
   ],
   "source": [
    "# scalar vals arr pd's timestamp obj (datetime -> timestamp)\n",
    "ts.index[0]"
   ]
  },
  {
   "cell_type": "markdown",
   "metadata": {},
   "source": [
    "### Indexing, Selection, Subsetting"
   ]
  },
  {
   "cell_type": "code",
   "execution_count": 8,
   "metadata": {},
   "outputs": [
    {
     "data": {
      "text/plain": [
       "1.098709419762574"
      ]
     },
     "execution_count": 8,
     "metadata": {},
     "output_type": "execute_result"
    }
   ],
   "source": [
    "stamp = ts.index[2]\n",
    "ts[stamp]"
   ]
  },
  {
   "cell_type": "code",
   "execution_count": 9,
   "metadata": {},
   "outputs": [
    {
     "data": {
      "text/plain": [
       "0.4998021420275295"
      ]
     },
     "execution_count": 9,
     "metadata": {},
     "output_type": "execute_result"
    }
   ],
   "source": [
    "# str as date tf\n",
    "ts['20110110']\n"
   ]
  },
  {
   "cell_type": "code",
   "execution_count": 11,
   "metadata": {},
   "outputs": [
    {
     "data": {
      "text/plain": [
       "2000-01-01    0.309969\n",
       "2000-01-02   -1.309000\n",
       "2000-01-03   -0.184334\n",
       "2000-01-04    0.187876\n",
       "2000-01-05    0.251620\n",
       "                ...   \n",
       "2002-09-22    0.808414\n",
       "2002-09-23    0.833929\n",
       "2002-09-24   -0.326227\n",
       "2002-09-25    0.656650\n",
       "2002-09-26   -0.560711\n",
       "Freq: D, Length: 1000, dtype: float64"
      ]
     },
     "execution_count": 11,
     "metadata": {},
     "output_type": "execute_result"
    }
   ],
   "source": [
    "# longer series only year/month to select data slice\n",
    "longer_ts = pd.Series(np.random.randn(1000),\n",
    "     index=pd.date_range('1/1/2000', periods=1000))\n",
    "# pd.date_range('1/1/2000', periods=1000)\n",
    "longer_ts"
   ]
  },
  {
   "cell_type": "code",
   "execution_count": 12,
   "metadata": {},
   "outputs": [
    {
     "data": {
      "text/plain": [
       "2001-01-01   -1.436786\n",
       "2001-01-02   -0.250697\n",
       "2001-01-03   -0.138944\n",
       "2001-01-04   -0.640874\n",
       "2001-01-05    1.528580\n",
       "                ...   \n",
       "2001-12-27   -0.379689\n",
       "2001-12-28    0.456526\n",
       "2001-12-29   -1.969595\n",
       "2001-12-30    0.054505\n",
       "2001-12-31   -1.068848\n",
       "Freq: D, Length: 365, dtype: float64"
      ]
     },
     "execution_count": 12,
     "metadata": {},
     "output_type": "execute_result"
    }
   ],
   "source": [
    "# for year\n",
    "longer_ts['2001']"
   ]
  },
  {
   "cell_type": "code",
   "execution_count": 13,
   "metadata": {},
   "outputs": [
    {
     "data": {
      "text/plain": [
       "2001-10-01    0.583742\n",
       "2001-10-02    0.497610\n",
       "2001-10-03   -1.950727\n",
       "2001-10-04    0.653021\n",
       "2001-10-05    1.011854\n",
       "2001-10-06    1.099687\n",
       "2001-10-07    0.569533\n",
       "2001-10-08    1.162444\n",
       "2001-10-09    0.572447\n",
       "2001-10-10    2.368572\n",
       "2001-10-11    1.238840\n",
       "2001-10-12   -1.387164\n",
       "2001-10-13   -0.769207\n",
       "2001-10-14    1.536771\n",
       "2001-10-15    0.477130\n",
       "2001-10-16    0.716553\n",
       "2001-10-17    0.865783\n",
       "2001-10-18    1.481634\n",
       "2001-10-19   -1.003214\n",
       "2001-10-20   -0.419831\n",
       "2001-10-21    0.658136\n",
       "2001-10-22   -0.809589\n",
       "2001-10-23   -0.734396\n",
       "2001-10-24    0.982885\n",
       "2001-10-25    1.026414\n",
       "2001-10-26   -0.497589\n",
       "2001-10-27   -0.361687\n",
       "2001-10-28   -1.095372\n",
       "2001-10-29   -0.344998\n",
       "2001-10-30    2.073477\n",
       "2001-10-31    1.451932\n",
       "Freq: D, dtype: float64"
      ]
     },
     "execution_count": 13,
     "metadata": {},
     "output_type": "execute_result"
    }
   ],
   "source": [
    "# year-mon\n",
    "longer_ts['2001-10']\n"
   ]
  },
  {
   "cell_type": "code",
   "execution_count": 14,
   "metadata": {},
   "outputs": [
    {
     "data": {
      "text/plain": [
       "2011-01-07    1.098709\n",
       "2011-01-08    0.809111\n",
       "2011-01-10    0.499802\n",
       "2011-01-12   -0.486002\n",
       "dtype: float64"
      ]
     },
     "execution_count": 14,
     "metadata": {},
     "output_type": "execute_result"
    }
   ],
   "source": [
    "# datetime objs too\n",
    "ts[datetime(2011,1,7):]"
   ]
  },
  {
   "cell_type": "code",
   "execution_count": 15,
   "metadata": {},
   "outputs": [
    {
     "data": {
      "text/plain": [
       "2011-01-02   -0.326558\n",
       "2011-01-05    0.641027\n",
       "2011-01-07    1.098709\n",
       "2011-01-08    0.809111\n",
       "2011-01-10    0.499802\n",
       "2011-01-12   -0.486002\n",
       "dtype: float64"
      ]
     },
     "execution_count": 15,
     "metadata": {},
     "output_type": "execute_result"
    }
   ],
   "source": [
    "# select date rannge even if dates not prersent\n",
    "ts"
   ]
  },
  {
   "cell_type": "code",
   "execution_count": 16,
   "metadata": {},
   "outputs": [
    {
     "data": {
      "text/plain": [
       "2011-01-07    1.098709\n",
       "2011-01-08    0.809111\n",
       "2011-01-10    0.499802\n",
       "dtype: float64"
      ]
     },
     "execution_count": 16,
     "metadata": {},
     "output_type": "execute_result"
    }
   ],
   "source": [
    "ts['2011-01-06' : '2011-01-10']"
   ]
  },
  {
   "cell_type": "code",
   "execution_count": 18,
   "metadata": {},
   "outputs": [
    {
     "data": {
      "text/plain": [
       "2011-01-02   -0.326558\n",
       "2011-01-05    0.641027\n",
       "2011-01-07    1.098709\n",
       "2011-01-08    0.809111\n",
       "dtype: float64"
      ]
     },
     "execution_count": 18,
     "metadata": {},
     "output_type": "execute_result"
    }
   ],
   "source": [
    "# truncate method slices between2 dates, beforeand after\n",
    "ts.truncate(after=\"2011-01-08\")"
   ]
  },
  {
   "cell_type": "code",
   "execution_count": 19,
   "metadata": {},
   "outputs": [
    {
     "data": {
      "text/html": [
       "<div>\n",
       "<style scoped>\n",
       "    .dataframe tbody tr th:only-of-type {\n",
       "        vertical-align: middle;\n",
       "    }\n",
       "\n",
       "    .dataframe tbody tr th {\n",
       "        vertical-align: top;\n",
       "    }\n",
       "\n",
       "    .dataframe thead th {\n",
       "        text-align: right;\n",
       "    }\n",
       "</style>\n",
       "<table border=\"1\" class=\"dataframe\">\n",
       "  <thead>\n",
       "    <tr style=\"text-align: right;\">\n",
       "      <th></th>\n",
       "      <th>Colorado</th>\n",
       "      <th>Texas</th>\n",
       "      <th>New York</th>\n",
       "      <th>Ohio</th>\n",
       "    </tr>\n",
       "  </thead>\n",
       "  <tbody>\n",
       "    <tr>\n",
       "      <th>2000-01-05</th>\n",
       "      <td>-1.507448</td>\n",
       "      <td>-1.557895</td>\n",
       "      <td>1.020582</td>\n",
       "      <td>-1.626127</td>\n",
       "    </tr>\n",
       "    <tr>\n",
       "      <th>2000-01-12</th>\n",
       "      <td>-1.092347</td>\n",
       "      <td>0.704459</td>\n",
       "      <td>-0.707824</td>\n",
       "      <td>1.763829</td>\n",
       "    </tr>\n",
       "    <tr>\n",
       "      <th>2000-01-19</th>\n",
       "      <td>-0.245051</td>\n",
       "      <td>-1.404000</td>\n",
       "      <td>-0.842209</td>\n",
       "      <td>-0.367435</td>\n",
       "    </tr>\n",
       "    <tr>\n",
       "      <th>2000-01-26</th>\n",
       "      <td>0.113761</td>\n",
       "      <td>-0.162546</td>\n",
       "      <td>-1.243137</td>\n",
       "      <td>0.522090</td>\n",
       "    </tr>\n",
       "    <tr>\n",
       "      <th>2000-02-02</th>\n",
       "      <td>-0.474637</td>\n",
       "      <td>0.699714</td>\n",
       "      <td>-0.324656</td>\n",
       "      <td>-1.335147</td>\n",
       "    </tr>\n",
       "    <tr>\n",
       "      <th>...</th>\n",
       "      <td>...</td>\n",
       "      <td>...</td>\n",
       "      <td>...</td>\n",
       "      <td>...</td>\n",
       "    </tr>\n",
       "    <tr>\n",
       "      <th>2001-10-31</th>\n",
       "      <td>-0.713076</td>\n",
       "      <td>-1.281766</td>\n",
       "      <td>0.781555</td>\n",
       "      <td>2.409818</td>\n",
       "    </tr>\n",
       "    <tr>\n",
       "      <th>2001-11-07</th>\n",
       "      <td>0.221030</td>\n",
       "      <td>1.858471</td>\n",
       "      <td>-0.035997</td>\n",
       "      <td>-1.276466</td>\n",
       "    </tr>\n",
       "    <tr>\n",
       "      <th>2001-11-14</th>\n",
       "      <td>-0.569944</td>\n",
       "      <td>1.442005</td>\n",
       "      <td>-0.875474</td>\n",
       "      <td>0.066954</td>\n",
       "    </tr>\n",
       "    <tr>\n",
       "      <th>2001-11-21</th>\n",
       "      <td>0.651055</td>\n",
       "      <td>1.004967</td>\n",
       "      <td>-0.677983</td>\n",
       "      <td>0.956963</td>\n",
       "    </tr>\n",
       "    <tr>\n",
       "      <th>2001-11-28</th>\n",
       "      <td>-1.633795</td>\n",
       "      <td>-2.245978</td>\n",
       "      <td>-0.046701</td>\n",
       "      <td>1.961275</td>\n",
       "    </tr>\n",
       "  </tbody>\n",
       "</table>\n",
       "<p>100 rows × 4 columns</p>\n",
       "</div>"
      ],
      "text/plain": [
       "            Colorado     Texas  New York      Ohio\n",
       "2000-01-05 -1.507448 -1.557895  1.020582 -1.626127\n",
       "2000-01-12 -1.092347  0.704459 -0.707824  1.763829\n",
       "2000-01-19 -0.245051 -1.404000 -0.842209 -0.367435\n",
       "2000-01-26  0.113761 -0.162546 -1.243137  0.522090\n",
       "2000-02-02 -0.474637  0.699714 -0.324656 -1.335147\n",
       "...              ...       ...       ...       ...\n",
       "2001-10-31 -0.713076 -1.281766  0.781555  2.409818\n",
       "2001-11-07  0.221030  1.858471 -0.035997 -1.276466\n",
       "2001-11-14 -0.569944  1.442005 -0.875474  0.066954\n",
       "2001-11-21  0.651055  1.004967 -0.677983  0.956963\n",
       "2001-11-28 -1.633795 -2.245978 -0.046701  1.961275\n",
       "\n",
       "[100 rows x 4 columns]"
      ]
     },
     "execution_count": 19,
     "metadata": {},
     "output_type": "execute_result"
    }
   ],
   "source": [
    "# DFs tooo\n",
    "dates = pd.date_range('1/1/2000', periods=100, freq='W-WED') #only wednesdays\n",
    "long_df = pd.DataFrame(np.random.randn(100, 4),\n",
    "        index=dates,\n",
    "        columns=['Colorado', 'Texas',\n",
    "        'New York', 'Ohio'])\n",
    "long_df\n"
   ]
  },
  {
   "cell_type": "code",
   "execution_count": 27,
   "metadata": {},
   "outputs": [
    {
     "data": {
      "text/html": [
       "<div>\n",
       "<style scoped>\n",
       "    .dataframe tbody tr th:only-of-type {\n",
       "        vertical-align: middle;\n",
       "    }\n",
       "\n",
       "    .dataframe tbody tr th {\n",
       "        vertical-align: top;\n",
       "    }\n",
       "\n",
       "    .dataframe thead th {\n",
       "        text-align: right;\n",
       "    }\n",
       "</style>\n",
       "<table border=\"1\" class=\"dataframe\">\n",
       "  <thead>\n",
       "    <tr style=\"text-align: right;\">\n",
       "      <th></th>\n",
       "      <th>Colorado</th>\n",
       "      <th>Texas</th>\n",
       "      <th>New York</th>\n",
       "      <th>Ohio</th>\n",
       "    </tr>\n",
       "  </thead>\n",
       "  <tbody>\n",
       "    <tr>\n",
       "      <th>2001-05-02</th>\n",
       "      <td>0.081552</td>\n",
       "      <td>-0.668151</td>\n",
       "      <td>-0.998547</td>\n",
       "      <td>-0.537564</td>\n",
       "    </tr>\n",
       "    <tr>\n",
       "      <th>2001-05-09</th>\n",
       "      <td>1.036852</td>\n",
       "      <td>-1.627542</td>\n",
       "      <td>-1.293198</td>\n",
       "      <td>-0.248474</td>\n",
       "    </tr>\n",
       "    <tr>\n",
       "      <th>2001-05-16</th>\n",
       "      <td>0.042760</td>\n",
       "      <td>-0.074008</td>\n",
       "      <td>-0.374271</td>\n",
       "      <td>-0.270692</td>\n",
       "    </tr>\n",
       "    <tr>\n",
       "      <th>2001-05-23</th>\n",
       "      <td>0.516473</td>\n",
       "      <td>-0.623928</td>\n",
       "      <td>-1.080990</td>\n",
       "      <td>1.131259</td>\n",
       "    </tr>\n",
       "    <tr>\n",
       "      <th>2001-05-30</th>\n",
       "      <td>-2.370843</td>\n",
       "      <td>1.237043</td>\n",
       "      <td>-1.366510</td>\n",
       "      <td>-0.153291</td>\n",
       "    </tr>\n",
       "  </tbody>\n",
       "</table>\n",
       "</div>"
      ],
      "text/plain": [
       "            Colorado     Texas  New York      Ohio\n",
       "2001-05-02  0.081552 -0.668151 -0.998547 -0.537564\n",
       "2001-05-09  1.036852 -1.627542 -1.293198 -0.248474\n",
       "2001-05-16  0.042760 -0.074008 -0.374271 -0.270692\n",
       "2001-05-23  0.516473 -0.623928 -1.080990  1.131259\n",
       "2001-05-30 -2.370843  1.237043 -1.366510 -0.153291"
      ]
     },
     "execution_count": 27,
     "metadata": {},
     "output_type": "execute_result"
    }
   ],
   "source": [
    "long_df.loc['2001-05']"
   ]
  },
  {
   "cell_type": "markdown",
   "metadata": {},
   "source": [
    "### Time series with duplicate indices"
   ]
  },
  {
   "cell_type": "code",
   "execution_count": 29,
   "metadata": {},
   "outputs": [
    {
     "data": {
      "text/plain": [
       "2000-01-01    0\n",
       "2000-01-02    1\n",
       "2000-01-02    2\n",
       "2000-01-02    3\n",
       "2000-01-03    4\n",
       "dtype: int32"
      ]
     },
     "execution_count": 29,
     "metadata": {},
     "output_type": "execute_result"
    }
   ],
   "source": [
    "#  >1 datapt on a date\n",
    "dates=pd.DatetimeIndex(['1/1/2000', '1/2/2000', '1/2/2000',\n",
    "     '1/2/2000', '1/3/2000'])\n",
    "dup_ts = pd.Series(np.arange(5), index=dates)\n",
    "dup_ts"
   ]
  },
  {
   "cell_type": "code",
   "execution_count": 30,
   "metadata": {},
   "outputs": [
    {
     "name": "stdout",
     "output_type": "stream",
     "text": [
      "False\n"
     ]
    },
    {
     "data": {
      "text/plain": [
       "2000-01-02    1\n",
       "2000-01-02    2\n",
       "2000-01-02    3\n",
       "dtype: int32"
      ]
     },
     "execution_count": 30,
     "metadata": {},
     "output_type": "execute_result"
    }
   ],
   "source": [
    "print(dup_ts.index.is_unique)\n",
    "# selecting yields scalar or slice\n",
    "dup_ts['2000-01-02']"
   ]
  },
  {
   "cell_type": "code",
   "execution_count": null,
   "metadata": {},
   "outputs": [],
   "source": [
    "# grouping on same dates"
   ]
  }
 ],
 "metadata": {
  "kernelspec": {
   "display_name": "Python 3",
   "language": "python",
   "name": "python3"
  },
  "language_info": {
   "codemirror_mode": {
    "name": "ipython",
    "version": 3
   },
   "file_extension": ".py",
   "mimetype": "text/x-python",
   "name": "python",
   "nbconvert_exporter": "python",
   "pygments_lexer": "ipython3",
   "version": "3.11.3"
  }
 },
 "nbformat": 4,
 "nbformat_minor": 2
}
