{
 "cells": [
  {
   "cell_type": "code",
   "execution_count": 1,
   "metadata": {},
   "outputs": [],
   "source": [
    "from datetime import datetime\n",
    "import pandas as pd\n",
    "import numpy as np"
   ]
  },
  {
   "cell_type": "code",
   "execution_count": 2,
   "metadata": {},
   "outputs": [
    {
     "data": {
      "text/plain": [
       "2011-01-02    0.464818\n",
       "2011-01-05   -0.683008\n",
       "2011-01-07    0.692004\n",
       "2011-01-08   -1.117441\n",
       "2011-01-10    0.739387\n",
       "2011-01-12   -0.802033\n",
       "dtype: float64"
      ]
     },
     "execution_count": 2,
     "metadata": {},
     "output_type": "execute_result"
    }
   ],
   "source": [
    "#  time series object in pandas is a Series indexed by timestamps\n",
    "dates = [datetime(2011, 1, 2), datetime(2011, 1, 5),\n",
    "     datetime(2011, 1, 7), datetime(2011, 1, 8),\n",
    "     datetime(2011, 1, 10), datetime(2011, 1, 12)]\n",
    "ts = pd.Series(np.random.randn(6), index=dates)\n",
    "ts"
   ]
  },
  {
   "cell_type": "code",
   "execution_count": 3,
   "metadata": {},
   "outputs": [
    {
     "data": {
      "text/plain": [
       "DatetimeIndex(['2011-01-02', '2011-01-05', '2011-01-07', '2011-01-08',\n",
       "               '2011-01-10', '2011-01-12'],\n",
       "              dtype='datetime64[ns]', freq=None)"
      ]
     },
     "execution_count": 3,
     "metadata": {},
     "output_type": "execute_result"
    }
   ],
   "source": [
    "# datetime index\n",
    "ts.index"
   ]
  },
  {
   "cell_type": "code",
   "execution_count": 4,
   "metadata": {},
   "outputs": [
    {
     "data": {
      "text/plain": [
       "2011-01-02    0.929635\n",
       "2011-01-05         NaN\n",
       "2011-01-07    1.384007\n",
       "2011-01-08         NaN\n",
       "2011-01-10    1.478774\n",
       "2011-01-12         NaN\n",
       "dtype: float64"
      ]
     },
     "execution_count": 4,
     "metadata": {},
     "output_type": "execute_result"
    }
   ],
   "source": [
    "# auto allign on index\n",
    "ts + ts[::2] # every 2nd elemetn"
   ]
  },
  {
   "cell_type": "code",
   "execution_count": 5,
   "metadata": {},
   "outputs": [
    {
     "data": {
      "text/plain": [
       "dtype('<M8[ns]')"
      ]
     },
     "execution_count": 5,
     "metadata": {},
     "output_type": "execute_result"
    }
   ],
   "source": [
    "ts.index.dtype"
   ]
  },
  {
   "cell_type": "code",
   "execution_count": 6,
   "metadata": {},
   "outputs": [
    {
     "data": {
      "text/plain": [
       "Timestamp('2011-01-02 00:00:00')"
      ]
     },
     "execution_count": 6,
     "metadata": {},
     "output_type": "execute_result"
    }
   ],
   "source": [
    "# scalar vals arr pd's timestamp obj (datetime -> timestamp)\n",
    "ts.index[0]"
   ]
  },
  {
   "cell_type": "markdown",
   "metadata": {},
   "source": [
    "### Indexing, Selection, Subsetting"
   ]
  },
  {
   "cell_type": "code",
   "execution_count": 7,
   "metadata": {},
   "outputs": [
    {
     "data": {
      "text/plain": [
       "0.6920036003335818"
      ]
     },
     "execution_count": 7,
     "metadata": {},
     "output_type": "execute_result"
    }
   ],
   "source": [
    "stamp = ts.index[2]\n",
    "ts[stamp]"
   ]
  },
  {
   "cell_type": "code",
   "execution_count": 8,
   "metadata": {},
   "outputs": [
    {
     "data": {
      "text/plain": [
       "0.7393872029158588"
      ]
     },
     "execution_count": 8,
     "metadata": {},
     "output_type": "execute_result"
    }
   ],
   "source": [
    "# str as date tf\n",
    "ts['20110110']\n"
   ]
  },
  {
   "cell_type": "code",
   "execution_count": 9,
   "metadata": {},
   "outputs": [
    {
     "data": {
      "text/plain": [
       "2000-01-01    0.855412\n",
       "2000-01-02   -1.902517\n",
       "2000-01-03    0.622428\n",
       "2000-01-04   -1.319402\n",
       "2000-01-05    1.067002\n",
       "                ...   \n",
       "2002-09-22    2.006236\n",
       "2002-09-23   -0.309888\n",
       "2002-09-24   -0.346562\n",
       "2002-09-25   -1.053162\n",
       "2002-09-26    1.109559\n",
       "Freq: D, Length: 1000, dtype: float64"
      ]
     },
     "execution_count": 9,
     "metadata": {},
     "output_type": "execute_result"
    }
   ],
   "source": [
    "# longer series only year/month to select data slice\n",
    "longer_ts = pd.Series(np.random.randn(1000),\n",
    "     index=pd.date_range('1/1/2000', periods=1000))\n",
    "# pd.date_range('1/1/2000', periods=1000)\n",
    "longer_ts"
   ]
  },
  {
   "cell_type": "code",
   "execution_count": 10,
   "metadata": {},
   "outputs": [
    {
     "data": {
      "text/plain": [
       "2001-01-01   -0.344024\n",
       "2001-01-02    0.943250\n",
       "2001-01-03   -0.117723\n",
       "2001-01-04   -0.335685\n",
       "2001-01-05   -1.192205\n",
       "                ...   \n",
       "2001-12-27   -0.216878\n",
       "2001-12-28    1.187376\n",
       "2001-12-29    0.446439\n",
       "2001-12-30   -0.457286\n",
       "2001-12-31   -2.526290\n",
       "Freq: D, Length: 365, dtype: float64"
      ]
     },
     "execution_count": 10,
     "metadata": {},
     "output_type": "execute_result"
    }
   ],
   "source": [
    "# for year\n",
    "longer_ts['2001']"
   ]
  },
  {
   "cell_type": "code",
   "execution_count": 11,
   "metadata": {},
   "outputs": [
    {
     "data": {
      "text/plain": [
       "2001-10-01   -0.222856\n",
       "2001-10-02    0.341320\n",
       "2001-10-03    0.231532\n",
       "2001-10-04    0.044885\n",
       "2001-10-05   -0.470794\n",
       "2001-10-06   -1.474965\n",
       "2001-10-07    0.548103\n",
       "2001-10-08    0.142261\n",
       "2001-10-09   -0.138381\n",
       "2001-10-10   -0.798325\n",
       "2001-10-11    2.393656\n",
       "2001-10-12    0.511576\n",
       "2001-10-13    1.480320\n",
       "2001-10-14   -1.372453\n",
       "2001-10-15   -1.732238\n",
       "2001-10-16   -1.396605\n",
       "2001-10-17   -1.281022\n",
       "2001-10-18    0.006137\n",
       "2001-10-19   -0.308184\n",
       "2001-10-20   -1.207946\n",
       "2001-10-21   -0.320710\n",
       "2001-10-22    0.114300\n",
       "2001-10-23   -0.242679\n",
       "2001-10-24   -0.136143\n",
       "2001-10-25   -0.074120\n",
       "2001-10-26   -0.320529\n",
       "2001-10-27    1.205081\n",
       "2001-10-28   -0.163340\n",
       "2001-10-29   -0.139649\n",
       "2001-10-30    0.197359\n",
       "2001-10-31   -0.578224\n",
       "Freq: D, dtype: float64"
      ]
     },
     "execution_count": 11,
     "metadata": {},
     "output_type": "execute_result"
    }
   ],
   "source": [
    "# year-mon\n",
    "longer_ts['2001-10']\n"
   ]
  },
  {
   "cell_type": "code",
   "execution_count": 12,
   "metadata": {},
   "outputs": [
    {
     "data": {
      "text/plain": [
       "2011-01-07    0.692004\n",
       "2011-01-08   -1.117441\n",
       "2011-01-10    0.739387\n",
       "2011-01-12   -0.802033\n",
       "dtype: float64"
      ]
     },
     "execution_count": 12,
     "metadata": {},
     "output_type": "execute_result"
    }
   ],
   "source": [
    "# datetime objs too\n",
    "ts[datetime(2011,1,7):]"
   ]
  },
  {
   "cell_type": "code",
   "execution_count": 13,
   "metadata": {},
   "outputs": [
    {
     "data": {
      "text/plain": [
       "2011-01-02    0.464818\n",
       "2011-01-05   -0.683008\n",
       "2011-01-07    0.692004\n",
       "2011-01-08   -1.117441\n",
       "2011-01-10    0.739387\n",
       "2011-01-12   -0.802033\n",
       "dtype: float64"
      ]
     },
     "execution_count": 13,
     "metadata": {},
     "output_type": "execute_result"
    }
   ],
   "source": [
    "# select date rannge even if dates not prersent\n",
    "ts"
   ]
  },
  {
   "cell_type": "code",
   "execution_count": 14,
   "metadata": {},
   "outputs": [
    {
     "data": {
      "text/plain": [
       "2011-01-07    0.692004\n",
       "2011-01-08   -1.117441\n",
       "2011-01-10    0.739387\n",
       "dtype: float64"
      ]
     },
     "execution_count": 14,
     "metadata": {},
     "output_type": "execute_result"
    }
   ],
   "source": [
    "ts['2011-01-06' : '2011-01-10']"
   ]
  },
  {
   "cell_type": "code",
   "execution_count": 15,
   "metadata": {},
   "outputs": [
    {
     "data": {
      "text/plain": [
       "2011-01-02    0.464818\n",
       "2011-01-05   -0.683008\n",
       "2011-01-07    0.692004\n",
       "2011-01-08   -1.117441\n",
       "dtype: float64"
      ]
     },
     "execution_count": 15,
     "metadata": {},
     "output_type": "execute_result"
    }
   ],
   "source": [
    "# truncate method slices between2 dates, beforeand after\n",
    "ts.truncate(after=\"2011-01-08\")"
   ]
  },
  {
   "cell_type": "code",
   "execution_count": 16,
   "metadata": {},
   "outputs": [
    {
     "data": {
      "text/html": [
       "<div>\n",
       "<style scoped>\n",
       "    .dataframe tbody tr th:only-of-type {\n",
       "        vertical-align: middle;\n",
       "    }\n",
       "\n",
       "    .dataframe tbody tr th {\n",
       "        vertical-align: top;\n",
       "    }\n",
       "\n",
       "    .dataframe thead th {\n",
       "        text-align: right;\n",
       "    }\n",
       "</style>\n",
       "<table border=\"1\" class=\"dataframe\">\n",
       "  <thead>\n",
       "    <tr style=\"text-align: right;\">\n",
       "      <th></th>\n",
       "      <th>Colorado</th>\n",
       "      <th>Texas</th>\n",
       "      <th>New York</th>\n",
       "      <th>Ohio</th>\n",
       "    </tr>\n",
       "  </thead>\n",
       "  <tbody>\n",
       "    <tr>\n",
       "      <th>2000-01-05</th>\n",
       "      <td>0.879781</td>\n",
       "      <td>0.123492</td>\n",
       "      <td>-0.841356</td>\n",
       "      <td>1.185281</td>\n",
       "    </tr>\n",
       "    <tr>\n",
       "      <th>2000-01-12</th>\n",
       "      <td>-0.514400</td>\n",
       "      <td>-1.160327</td>\n",
       "      <td>2.335646</td>\n",
       "      <td>-0.232647</td>\n",
       "    </tr>\n",
       "    <tr>\n",
       "      <th>2000-01-19</th>\n",
       "      <td>0.401347</td>\n",
       "      <td>1.701656</td>\n",
       "      <td>1.219061</td>\n",
       "      <td>-2.088743</td>\n",
       "    </tr>\n",
       "    <tr>\n",
       "      <th>2000-01-26</th>\n",
       "      <td>-0.112335</td>\n",
       "      <td>0.795254</td>\n",
       "      <td>0.444728</td>\n",
       "      <td>-0.847320</td>\n",
       "    </tr>\n",
       "    <tr>\n",
       "      <th>2000-02-02</th>\n",
       "      <td>-0.940114</td>\n",
       "      <td>0.816062</td>\n",
       "      <td>-0.500418</td>\n",
       "      <td>0.106198</td>\n",
       "    </tr>\n",
       "    <tr>\n",
       "      <th>...</th>\n",
       "      <td>...</td>\n",
       "      <td>...</td>\n",
       "      <td>...</td>\n",
       "      <td>...</td>\n",
       "    </tr>\n",
       "    <tr>\n",
       "      <th>2001-10-31</th>\n",
       "      <td>1.134864</td>\n",
       "      <td>0.168993</td>\n",
       "      <td>-0.285628</td>\n",
       "      <td>-0.146698</td>\n",
       "    </tr>\n",
       "    <tr>\n",
       "      <th>2001-11-07</th>\n",
       "      <td>-0.475201</td>\n",
       "      <td>-0.130869</td>\n",
       "      <td>-0.253995</td>\n",
       "      <td>1.948625</td>\n",
       "    </tr>\n",
       "    <tr>\n",
       "      <th>2001-11-14</th>\n",
       "      <td>-1.429621</td>\n",
       "      <td>0.163892</td>\n",
       "      <td>1.006963</td>\n",
       "      <td>0.395838</td>\n",
       "    </tr>\n",
       "    <tr>\n",
       "      <th>2001-11-21</th>\n",
       "      <td>1.497706</td>\n",
       "      <td>-0.713783</td>\n",
       "      <td>0.842193</td>\n",
       "      <td>-0.350608</td>\n",
       "    </tr>\n",
       "    <tr>\n",
       "      <th>2001-11-28</th>\n",
       "      <td>0.213751</td>\n",
       "      <td>-0.804453</td>\n",
       "      <td>-1.354528</td>\n",
       "      <td>-0.773487</td>\n",
       "    </tr>\n",
       "  </tbody>\n",
       "</table>\n",
       "<p>100 rows × 4 columns</p>\n",
       "</div>"
      ],
      "text/plain": [
       "            Colorado     Texas  New York      Ohio\n",
       "2000-01-05  0.879781  0.123492 -0.841356  1.185281\n",
       "2000-01-12 -0.514400 -1.160327  2.335646 -0.232647\n",
       "2000-01-19  0.401347  1.701656  1.219061 -2.088743\n",
       "2000-01-26 -0.112335  0.795254  0.444728 -0.847320\n",
       "2000-02-02 -0.940114  0.816062 -0.500418  0.106198\n",
       "...              ...       ...       ...       ...\n",
       "2001-10-31  1.134864  0.168993 -0.285628 -0.146698\n",
       "2001-11-07 -0.475201 -0.130869 -0.253995  1.948625\n",
       "2001-11-14 -1.429621  0.163892  1.006963  0.395838\n",
       "2001-11-21  1.497706 -0.713783  0.842193 -0.350608\n",
       "2001-11-28  0.213751 -0.804453 -1.354528 -0.773487\n",
       "\n",
       "[100 rows x 4 columns]"
      ]
     },
     "execution_count": 16,
     "metadata": {},
     "output_type": "execute_result"
    }
   ],
   "source": [
    "# DFs tooo\n",
    "dates = pd.date_range('1/1/2000', periods=100, freq='W-WED') #only wednesdays\n",
    "long_df = pd.DataFrame(np.random.randn(100, 4),\n",
    "        index=dates,\n",
    "        columns=['Colorado', 'Texas',\n",
    "        'New York', 'Ohio'])\n",
    "long_df\n"
   ]
  },
  {
   "cell_type": "code",
   "execution_count": 17,
   "metadata": {},
   "outputs": [
    {
     "data": {
      "text/html": [
       "<div>\n",
       "<style scoped>\n",
       "    .dataframe tbody tr th:only-of-type {\n",
       "        vertical-align: middle;\n",
       "    }\n",
       "\n",
       "    .dataframe tbody tr th {\n",
       "        vertical-align: top;\n",
       "    }\n",
       "\n",
       "    .dataframe thead th {\n",
       "        text-align: right;\n",
       "    }\n",
       "</style>\n",
       "<table border=\"1\" class=\"dataframe\">\n",
       "  <thead>\n",
       "    <tr style=\"text-align: right;\">\n",
       "      <th></th>\n",
       "      <th>Colorado</th>\n",
       "      <th>Texas</th>\n",
       "      <th>New York</th>\n",
       "      <th>Ohio</th>\n",
       "    </tr>\n",
       "  </thead>\n",
       "  <tbody>\n",
       "    <tr>\n",
       "      <th>2001-05-02</th>\n",
       "      <td>-0.786718</td>\n",
       "      <td>1.482464</td>\n",
       "      <td>-0.554759</td>\n",
       "      <td>1.292947</td>\n",
       "    </tr>\n",
       "    <tr>\n",
       "      <th>2001-05-09</th>\n",
       "      <td>-0.102359</td>\n",
       "      <td>0.013806</td>\n",
       "      <td>0.122022</td>\n",
       "      <td>0.974628</td>\n",
       "    </tr>\n",
       "    <tr>\n",
       "      <th>2001-05-16</th>\n",
       "      <td>-1.237661</td>\n",
       "      <td>-0.714675</td>\n",
       "      <td>0.606572</td>\n",
       "      <td>1.714277</td>\n",
       "    </tr>\n",
       "    <tr>\n",
       "      <th>2001-05-23</th>\n",
       "      <td>-0.549768</td>\n",
       "      <td>-1.133598</td>\n",
       "      <td>0.577436</td>\n",
       "      <td>-0.879977</td>\n",
       "    </tr>\n",
       "    <tr>\n",
       "      <th>2001-05-30</th>\n",
       "      <td>0.647147</td>\n",
       "      <td>0.998811</td>\n",
       "      <td>0.905325</td>\n",
       "      <td>2.157905</td>\n",
       "    </tr>\n",
       "  </tbody>\n",
       "</table>\n",
       "</div>"
      ],
      "text/plain": [
       "            Colorado     Texas  New York      Ohio\n",
       "2001-05-02 -0.786718  1.482464 -0.554759  1.292947\n",
       "2001-05-09 -0.102359  0.013806  0.122022  0.974628\n",
       "2001-05-16 -1.237661 -0.714675  0.606572  1.714277\n",
       "2001-05-23 -0.549768 -1.133598  0.577436 -0.879977\n",
       "2001-05-30  0.647147  0.998811  0.905325  2.157905"
      ]
     },
     "execution_count": 17,
     "metadata": {},
     "output_type": "execute_result"
    }
   ],
   "source": [
    "long_df.loc['2001-05']"
   ]
  },
  {
   "cell_type": "markdown",
   "metadata": {},
   "source": [
    "### Time series with duplicate indices"
   ]
  },
  {
   "cell_type": "code",
   "execution_count": 18,
   "metadata": {},
   "outputs": [
    {
     "data": {
      "text/plain": [
       "2000-01-01    0\n",
       "2000-01-02    1\n",
       "2000-01-02    2\n",
       "2000-01-02    3\n",
       "2000-01-03    4\n",
       "dtype: int32"
      ]
     },
     "execution_count": 18,
     "metadata": {},
     "output_type": "execute_result"
    }
   ],
   "source": [
    "#  >1 datapt on a date\n",
    "dates=pd.DatetimeIndex(['1/1/2000', '1/2/2000', '1/2/2000',\n",
    "     '1/2/2000', '1/3/2000'])\n",
    "dup_ts = pd.Series(np.arange(5), index=dates)\n",
    "dup_ts"
   ]
  },
  {
   "cell_type": "code",
   "execution_count": 19,
   "metadata": {},
   "outputs": [
    {
     "name": "stdout",
     "output_type": "stream",
     "text": [
      "False\n"
     ]
    },
    {
     "data": {
      "text/plain": [
       "2000-01-02    1\n",
       "2000-01-02    2\n",
       "2000-01-02    3\n",
       "dtype: int32"
      ]
     },
     "execution_count": 19,
     "metadata": {},
     "output_type": "execute_result"
    }
   ],
   "source": [
    "print(dup_ts.index.is_unique)\n",
    "# selecting yields scalar or slice\n",
    "dup_ts['2000-01-02']"
   ]
  },
  {
   "cell_type": "code",
   "execution_count": 21,
   "metadata": {},
   "outputs": [
    {
     "data": {
      "text/plain": [
       "2000-01-01    1\n",
       "2000-01-02    3\n",
       "2000-01-03    1\n",
       "dtype: int64"
      ]
     },
     "execution_count": 21,
     "metadata": {},
     "output_type": "execute_result"
    }
   ],
   "source": [
    "# grouping on same dates\n",
    "grouped = dup_ts.groupby(level=0)\n",
    "grouped.count()"
   ]
  },
  {
   "cell_type": "code",
   "execution_count": 22,
   "metadata": {},
   "outputs": [
    {
     "data": {
      "text/plain": [
       "2000-01-01    0.0\n",
       "2000-01-02    2.0\n",
       "2000-01-03    4.0\n",
       "dtype: float64"
      ]
     },
     "execution_count": 22,
     "metadata": {},
     "output_type": "execute_result"
    }
   ],
   "source": [
    "grouped.mean()"
   ]
  }
 ],
 "metadata": {
  "kernelspec": {
   "display_name": "Python 3",
   "language": "python",
   "name": "python3"
  },
  "language_info": {
   "codemirror_mode": {
    "name": "ipython",
    "version": 3
   },
   "file_extension": ".py",
   "mimetype": "text/x-python",
   "name": "python",
   "nbconvert_exporter": "python",
   "pygments_lexer": "ipython3",
   "version": "3.11.3"
  }
 },
 "nbformat": 4,
 "nbformat_minor": 2
}
