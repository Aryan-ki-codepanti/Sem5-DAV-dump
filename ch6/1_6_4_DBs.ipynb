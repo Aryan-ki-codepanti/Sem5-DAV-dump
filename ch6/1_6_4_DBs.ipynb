{
 "cells": [
  {
   "cell_type": "code",
   "execution_count": null,
   "metadata": {},
   "outputs": [],
   "source": [
    "# 1. sqlite3\n",
    "# con = sqlite3.connect('mydata.sqlite')\n",
    "# con.execute(query)\n",
    "#  con.commit()\n",
    "\n",
    "# insert multiple rows with executemany\n",
    "#  stmt = \"INSERT INTO test VALUES(?, ?, ?, ?)\"\n",
    "# con.executemany(stmt, data)\n",
    "# con.commit()\n",
    "\n",
    "# fetch results with .fetchall()\n",
    "# cursor = con.execute('select * from test')\n",
    "# rows = cursor.fetchall()\n",
    "\n",
    "# cursor.description col names\n",
    "# (('a', None, None, None, None, None, None),\n",
    "# ('b', None, None, None, None, None, None),\n",
    "# ('c', None, None, None, None, None, None),\n",
    "# ('d', None, None, None, None, None, None))\n",
    "\n",
    "# df with rows and cols"
   ]
  },
  {
   "cell_type": "code",
   "execution_count": null,
   "metadata": {},
   "outputs": [],
   "source": [
    "# 2.sql alchemy\n",
    "# import sqlalchemy as sqla\n",
    "# db = sqla.create_engine('sqlite:///mydata.sqlite')\n",
    "# pd.read_sql('select * from test', db)\n"
   ]
  }
 ],
 "metadata": {
  "language_info": {
   "name": "python"
  }
 },
 "nbformat": 4,
 "nbformat_minor": 2
}
